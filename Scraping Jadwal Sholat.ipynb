{
 "cells": [
  {
   "cell_type": "code",
   "execution_count": 6,
   "metadata": {
    "pycharm": {
     "name": "#%%Import All Package\n"
    }
   },
   "outputs": [],
   "source": [
    "from bs4 import BeautifulSoup\n",
    "import requests\n",
    "import pandas as pd"
   ]
  },
  {
   "cell_type": "code",
   "execution_count": 7,
   "metadata": {
    "pycharm": {
     "name": "#%% Define Web Address and Variable\n"
    }
   },
   "outputs": [],
   "source": [
    "url = 'http://jadwalsholat.pkpu.or.id/?id=154'\n",
    "html = requests.get(url)\n",
    "source = requests.get(url).text\n",
    "soup = BeautifulSoup(source, 'lxml')\n",
    "sholat =[]"
   ]
  },
  {
   "cell_type": "code",
   "execution_count": 8,
   "metadata": {
    "pycharm": {
     "name": "#%%Loop to get the data\n"
    }
   },
   "outputs": [
    {
     "name": "stdout",
     "output_type": "stream",
     "text": [
      "   Tanggal Subuh Dzuhur  Ashar Maghrib   Isya\n",
      "0       01  4:16  11:46  15:13   17:53  19:08\n",
      "1       02  4:16  11:47  15:13   17:53  19:08\n",
      "2       03  4:17  11:47  15:13   17:53  19:08\n",
      "3       04  4:17  11:47  15:13   17:53  19:08\n",
      "4       05  4:17  11:47  15:13   17:53  19:08\n",
      "5       06  4:17  11:47  15:13   17:53  19:08\n",
      "6       07  4:18  11:47  15:13   17:54  19:08\n",
      "7       08  4:18  11:48  15:13   17:54  19:08\n",
      "8       09  4:18  11:48  15:13   17:54  19:08\n",
      "9       10  4:18  11:48  15:14   17:54  19:09\n",
      "10      11  4:19  11:48  15:14   17:54  19:09\n",
      "11      13  4:19  11:48  15:14   17:54  19:09\n",
      "12      14  4:19  11:48  15:14   17:54  19:09\n",
      "13      15  4:20  11:49  15:14   17:54  19:09\n",
      "14      16  4:20  11:49  15:14   17:55  19:09\n",
      "15      17  4:20  11:49  15:14   17:55  19:09\n",
      "16      18  4:20  11:49  15:14   17:55  19:09\n",
      "17      19  4:20  11:49  15:14   17:55  19:09\n",
      "18      20  4:21  11:49  15:14   17:55  19:08\n",
      "19      21  4:21  11:49  15:13   17:55  19:08\n",
      "20      22  4:21  11:49  15:13   17:55  19:08\n",
      "21      23  4:21  11:49  15:13   17:55  19:08\n",
      "22      24  4:21  11:49  15:13   17:55  19:08\n",
      "23      25  4:22  11:49  15:13   17:55  19:08\n",
      "24      26  4:22  11:49  15:13   17:55  19:08\n",
      "25      27  4:22  11:49  15:13   17:55  19:08\n",
      "26      28  4:22  11:49  15:13   17:55  19:08\n",
      "27      29  4:22  11:49  15:12   17:55  19:07\n",
      "28      30  4:22  11:49  15:12   17:55  19:07\n",
      "29      31  4:22  11:49  15:12   17:54  19:07\n"
     ]
    }
   ],
   "source": [
    "for data in soup.find_all('tr', class_=('table_light', 'table_dark')):\n",
    "    tanggal = data.text\n",
    "    waktu = tanggal[:2], tanggal[3:7], tanggal[7:12], tanggal[12:17], tanggal[17:22], tanggal[22:27]\n",
    "    sholat.append(waktu)\n",
    "labels = ['Tanggal', 'Subuh', 'Dzuhur', 'Ashar', 'Maghrib', 'Isya']\n",
    "data_result = pd.DataFrame.from_records(sholat, columns=labels)\n",
    "print(data_result)"
   ]
  },
  {
   "cell_type": "code",
   "execution_count": 9,
   "outputs": [],
   "source": [
    "data_result.to_csv('Jadwal Sholat Manado Juli 2020.csv')\n"
   ],
   "metadata": {
    "collapsed": false,
    "pycharm": {
     "name": "#%%Export to CSV\n"
    }
   }
  }
 ],
 "metadata": {
  "kernelspec": {
   "name": "pycharm-b4a4853c",
   "language": "python",
   "display_name": "PyCharm (jadwal-sholat-manado)"
  },
  "language_info": {
   "codemirror_mode": {
    "name": "ipython",
    "version": 3
   },
   "file_extension": ".py",
   "mimetype": "text/x-python",
   "name": "python",
   "nbconvert_exporter": "python",
   "pygments_lexer": "ipython3",
   "version": "3.6.10"
  }
 },
 "nbformat": 4,
 "nbformat_minor": 2
}